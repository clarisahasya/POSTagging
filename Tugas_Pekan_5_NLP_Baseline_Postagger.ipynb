{
  "nbformat": 4,
  "nbformat_minor": 0,
  "metadata": {
    "colab": {
      "name": "Tugas Pekan 5 - NLP - Baseline Postagger.ipynb",
      "provenance": [],
      "collapsed_sections": [],
      "toc_visible": true
    },
    "kernelspec": {
      "display_name": "Python 3",
      "language": "python",
      "name": "python3"
    },
    "language_info": {
      "codemirror_mode": {
        "name": "ipython",
        "version": 3
      },
      "file_extension": ".py",
      "mimetype": "text/x-python",
      "name": "python",
      "nbconvert_exporter": "python",
      "pygments_lexer": "ipython3",
      "version": "3.8.3"
    }
  },
  "cells": [
    {
      "cell_type": "markdown",
      "metadata": {
        "id": "a-DnYjavtnSc"
      },
      "source": [
        "#**POS Tagging : Metode Baseline**\n",
        "\n",
        "\n",
        "---\n",
        "\n",
        "Clarisa Hasya Y - 130174256"
      ]
    },
    {
      "cell_type": "code",
      "metadata": {
        "id": "LYqeDZZ_6rSz",
        "outputId": "b0831c2b-c58e-4276-bfec-f92161f18c95",
        "colab": {
          "base_uri": "https://localhost:8080/",
          "height": 66
        }
      },
      "source": [
        "import pandas as pd\n",
        "import nltk\n",
        "nltk.download('punkt')"
      ],
      "execution_count": null,
      "outputs": [
        {
          "output_type": "stream",
          "text": [
            "[nltk_data] Downloading package punkt to /root/nltk_data...\n",
            "[nltk_data]   Unzipping tokenizers/punkt.zip.\n"
          ],
          "name": "stdout"
        },
        {
          "output_type": "execute_result",
          "data": {
            "text/plain": [
              "True"
            ]
          },
          "metadata": {
            "tags": []
          },
          "execution_count": 1
        }
      ]
    },
    {
      "cell_type": "markdown",
      "metadata": {
        "id": "ESx7W0E4EZpJ"
      },
      "source": [
        "**Read File Data Train TSV**"
      ]
    },
    {
      "cell_type": "code",
      "metadata": {
        "id": "AEE2VroRvHy7"
      },
      "source": [
        "df = pd.read_csv(\"train.01.tsv\",sep=\"\\t\", header=None)\n",
        "df = df.astype(str)"
      ],
      "execution_count": null,
      "outputs": []
    },
    {
      "cell_type": "code",
      "metadata": {
        "id": "5CHztZfo6rS8",
        "outputId": "f595aa69-6381-4b16-8b8c-1611f3878f58",
        "colab": {
          "base_uri": "https://localhost:8080/",
          "height": 191
        }
      },
      "source": [
        "df.head()"
      ],
      "execution_count": null,
      "outputs": [
        {
          "output_type": "execute_result",
          "data": {
            "text/html": [
              "<div>\n",
              "<style scoped>\n",
              "    .dataframe tbody tr th:only-of-type {\n",
              "        vertical-align: middle;\n",
              "    }\n",
              "\n",
              "    .dataframe tbody tr th {\n",
              "        vertical-align: top;\n",
              "    }\n",
              "\n",
              "    .dataframe thead th {\n",
              "        text-align: right;\n",
              "    }\n",
              "</style>\n",
              "<table border=\"1\" class=\"dataframe\">\n",
              "  <thead>\n",
              "    <tr style=\"text-align: right;\">\n",
              "      <th></th>\n",
              "      <th>0</th>\n",
              "      <th>1</th>\n",
              "    </tr>\n",
              "  </thead>\n",
              "  <tbody>\n",
              "    <tr>\n",
              "      <th>0</th>\n",
              "      <td>Pemerintah</td>\n",
              "      <td>NN</td>\n",
              "    </tr>\n",
              "    <tr>\n",
              "      <th>1</th>\n",
              "      <td>bahkan</td>\n",
              "      <td>RB</td>\n",
              "    </tr>\n",
              "    <tr>\n",
              "      <th>2</th>\n",
              "      <td>telah</td>\n",
              "      <td>MD</td>\n",
              "    </tr>\n",
              "    <tr>\n",
              "      <th>3</th>\n",
              "      <td>mencanangkan</td>\n",
              "      <td>VB</td>\n",
              "    </tr>\n",
              "    <tr>\n",
              "      <th>4</th>\n",
              "      <td>dana</td>\n",
              "      <td>NN</td>\n",
              "    </tr>\n",
              "  </tbody>\n",
              "</table>\n",
              "</div>"
            ],
            "text/plain": [
              "              0   1\n",
              "0    Pemerintah  NN\n",
              "1        bahkan  RB\n",
              "2         telah  MD\n",
              "3  mencanangkan  VB\n",
              "4          dana  NN"
            ]
          },
          "metadata": {
            "tags": []
          },
          "execution_count": 25
        }
      ]
    },
    {
      "cell_type": "code",
      "metadata": {
        "id": "iMnEZzpNvneb"
      },
      "source": [
        "word_tag_freq = {} # dictionary untuk menyimpan frekuensi tag kata\n",
        "tag_count = {} # dictionary untuk menyimpan frekuensi tag\n",
        "count_sentences = 0\n",
        "\n",
        "for index, row in df.iterrows():\n",
        "    word = row[0].lower()\n",
        "    tag = row[1]    \n",
        "    key = (word,tag) # simpan di dictionary kata,tag\n",
        "    # print(word,tag)\n",
        "    if count_sentences < 50:\n",
        "        # simpan di dictionary tag\n",
        "        if tag in tag_count:\n",
        "            tag_count[tag] = tag_count[tag] + 1\n",
        "        else:\n",
        "            tag_count[tag] = 1\n",
        "            \n",
        "        if key in word_tag_freq:\n",
        "            word_tag_freq[key] = word_tag_freq[key] + 1\n",
        "        else:\n",
        "            word_tag_freq[key] = 1\n",
        "\n",
        "    if word == '.' :\n",
        "        count_sentences += 1      \n",
        "        if(count_sentences == 50):\n",
        "            break"
      ],
      "execution_count": null,
      "outputs": []
    },
    {
      "cell_type": "code",
      "metadata": {
        "id": "tQ49B7rr6rTC",
        "outputId": "ce1aa99b-9f2a-4e11-da85-3eff5ac7e813",
        "colab": {
          "base_uri": "https://localhost:8080/",
          "height": 53
        }
      },
      "source": [
        "print(word_tag_freq)"
      ],
      "execution_count": null,
      "outputs": [
        {
          "output_type": "stream",
          "text": [
            "{('pemerintah', 'NN'): 6, ('bahkan', 'RB'): 1, ('telah', 'MD'): 6, ('mencanangkan', 'VB'): 1, ('dana', 'NN'): 1, ('untuk', 'SC'): 9, ('memicu', 'VB'): 1, ('sektor', 'NN'): 2, ('usaha', 'NN'): 1, ('kecil', 'JJ'): 2, ('dan', 'CC'): 19, ('menengah', 'JJ'): 1, ('ukm', 'NN'): 1, ('tumbuh', 'VB'): 1, ('lebih', 'RB'): 3, ('baik', 'JJ'): 2, (',', 'Z'): 62, ('karena', 'SC'): 7, ('ini', 'PR'): 8, ('cukup', 'RB'): 2, ('kuat', 'JJ'): 2, ('dalam', 'IN'): 13, ('krisis', 'JJ'): 1, ('keuangan', 'NN'): 2, ('pada', 'IN'): 13, ('tahun', 'NN'): 9, ('1997', 'CD'): 1, ('lalu', 'CC'): 3, ('kata', 'VB'): 5, ('-nya', 'PRP'): 21, ('.', 'Z'): 48, ('nan', 'nan'): 49, ('gubernur', 'NNP'): 1, ('bank', 'NNP'): 6, ('indonesia', 'NNP'): 11, ('burhanudin', 'NNP'): 1, ('abdullah', 'NNP'): 1, ('optimistis', 'JJ'): 1, ('mencapai', 'VB'): 6, ('target', 'NN'): 3, ('proyeksi', 'NN'): 1, ('suku', 'NN'): 2, ('bunga', 'NN'): 4, ('sbi', 'NNP'): 1, ('2008', 'CD'): 2, ('yang', 'SC'): 28, ('7,5', 'CD'): 1, ('-', 'Z'): 2, ('8,0', 'CD'): 1, ('persen', 'CD'): 12, ('badan', 'NN'): 1, ('kredit', 'NN'): 1, ('desa', 'NN'): 1, ('boleh', 'MD'): 2, ('dibilang', 'VB'): 1, ('sebagai', 'IN'): 4, ('tonggak sejarah', 'NN'): 1, ('berdiri', 'VB'): 1, ('lembaga', 'NN'): 1, ('mikro', 'JJ'): 1, ('di', 'IN'): 22, ('1991', 'CD'): 1, ('jumlah', 'NN'): 2, ('utang', 'NN'): 2, ('luar negeri', 'NN'): 1, ('membengkak', 'VB'): 1, ('dua', 'CD'): 2, ('kali', 'NND'): 1, ('lipat', 'VB'): 1, ('menjadi', 'VB'): 3, ('us', 'NNP'): 1, ('$', 'SYM'): 1, ('45,725', 'CD'): 1, ('miliar', 'CD'): 7, ('kami', 'PRP'): 3, ('sampaikan', 'VB'): 1, ('bahwa', 'SC'): 7, ('optimis', 'NN'): 1, ('mengenai', 'IN'): 3, ('tercapai', 'VB'): 1, ('pertumbuhan ekonomi', 'NN'): 2, ('sebesar', 'JJ'): 8, ('6,2', 'CD'): 2, ('2009', 'CD'): 1, ('menteri', 'NNP'): 2, ('keuangan', 'NNP'): 2, ('menkeu', 'NNP'): 1, ('sri', 'NNP'): 2, ('mulyani', 'NNP'): 2, ('indrawati', 'NNP'): 1, ('yen', 'NN'): 1, ('saat', 'NN'): 3, ('merosot', 'VB'): 1, ('terhadap', 'IN'): 4, ('dolar', 'NN'): 7, ('as', 'NNP'): 9, ('pelaku', 'NN'): 1, ('mengantisipasi', 'VB'): 3, ('rencana', 'NN'): 2, ('kenaikan', 'NN'): 3, ('itu', 'PR'): 9, ('ucap', 'VB'): 2, ('pendapatan', 'NN'): 1, ('negara', 'NN'): 5, ('direncanakan', 'VB'): 1, ('rp', 'SYM'): 15, ('1.158', 'CD'): 1, ('triliun', 'CD'): 5, ('sementara', 'SC'): 3, ('belanja', 'NN'): 1, ('1.237', 'CD'): 1, ('militer', 'NN'): 4, ('mengatakan', 'VB'): 7, ('pos', 'NN'): 1, ('penjagaan', 'NN'): 1, ('perbatasan', 'NN'): 2, ('akan', 'MD'): 14, ('diubah', 'VB'): 1, ('sebagian', 'CD'): 1, ('membentuk', 'VB'): 1, ('titik', 'NN'): 1, ('perpindahan', 'NN'): 1, ('guna', 'SC'): 2, ('mencari', 'VB'): 1, ('kendaraan', 'NN'): 1, ('masuk', 'VB'): 4, ('rupiah', 'NN'): 6, ('berada', 'VB'): 2, ('posisi', 'NN'): 1, ('aman', 'JJ'): 1, ('apabila', 'SC'): 2, ('berkisar', 'VB'): 1, ('antara', 'IN'): 2, ('9.15', 'CD'): 1, ('sampai', 'IN'): 2, ('9.175', 'CD'): 1, ('per', 'IN'): 5, ('namun', 'CC'): 7, ('menembus', 'VB'): 1, ('angka', 'NN'): 1, ('9.2', 'CD'): 1, ('biasanya', 'RB'): 2, ('terus', 'RB'): 3, ('terpuruk', 'VB'): 2, ('mengumumkan', 'VB'): 1, ('korban', 'NN'): 1, ('pertama', 'OD'): 1, ('mereka', 'PRP'): 2, ('sejak', 'IN'): 2, ('peluncuran', 'NN'): 1, ('keamanan', 'NN'): 2, ('baru', 'JJ'): 2, ('untuk', 'IN'): 3, ('baghdad', 'NNP'): 1, ('dengan', 'IN'): 8, ('kematian', 'NN'): 1, ('prajurit', 'NN'): 1, ('wilayah', 'NN'): 1, ('utara', 'NN'): 1, ('ibu kota', 'NN'): 1, ('irak', 'NNP'): 1, ('tersebut', 'PR'): 13, ('sabtu', 'NNP'): 1, ('satu', 'CD'): 4, ('orang', 'NN'): 3, ('serangan', 'NN'): 2, ('granat', 'NN'): 1, ('gerilyawan', 'NN'): 2, ('lagi', 'RB'): 1, ('tembakan', 'NN'): 1, ('senjata ringan', 'NN'): 1, ('sampai', 'SC'): 1, ('terlihat', 'VB'): 1, ('sulit', 'JJ'): 1, ('menuju', 'VB'): 1, ('ke', 'IN'): 3, ('level', 'NN'): 3, ('pelaku pasar', 'NN'): 1, ('mempunyai', 'VB'): 1, ('persepsi', 'NN'): 1, ('sendiri', 'PRP'): 1, ('wakil', 'NN'): 1, ('menteri', 'NN'): 1, ('pertahanan', 'NN'): 1, ('mengakui', 'VB'): 1, ('pertemuan', 'NN'): 1, ('komite', 'NN'): 1, ('senat', 'NNP'): 1, ('anggaran', 'NN'): 1, ('tersiar', 'VB'): 1, ('laporan', 'NN'): 3, ('turun', 'VB'): 1, ('pembunuhan', 'NN'): 1, ('antarpengikut', 'X'): 1, ('aliran', 'NN'): 1, ('negeri', 'NN'): 1, ('perusahaan', 'NN'): 2, ('didukung', 'VB'): 1, ('oleh', 'IN'): 3, ('jaringan', 'NN'): 1, ('distribusi', 'NN'): 1, ('luas', 'JJ'): 1, ('terdiri', 'VB'): 2, ('dari', 'IN'): 9, ('4', 'CD'): 1, ('kantor cabang', 'NN'): 1, ('8', 'CD'): 1, ('kantor perwakilan', 'NN'): 1, ('luar', 'NN'): 1, ('seperti', 'IN'): 1, ('singapura', 'NNP'): 2, ('thailand', 'NNP'): 1, ('china', 'NNP'): 2, ('ulfa', 'NNP'): 1, ('berjuang', 'VB'): 1, ('pemisahan', 'NN'): 1, ('tanah air', 'NN'): 1, ('warga', 'NN'): 2, ('assam', 'NNP'): 2, ('1979', 'CD'): 1, ('mengharapkan', 'VB'): 1, ('semua', 'CD'): 1, ('non', 'NEG'): 1, ('terutama', 'JJ'): 1, ('masyarakat', 'NN'): 1, ('berbicara', 'VB'): 1, ('bahasa', 'NNP'): 1, ('hindi', 'NNP'): 1, ('meninggalkan', 'VB'): 1, ('tidak', 'NEG'): 7, ('mengklaim', 'VB'): 1, ('bertanggung jawab', 'VB'): 1, ('atas', 'IN'): 3, ('terjadi', 'VB'): 3, ('serangan-serangan', 'NN'): 1, ('jadi', 'VB'): 1, ('saya', 'PRP'): 1, ('harus', 'MD'): 2, ('hati-hati', 'JJ'): 1, ('betul', 'JJ'): 1, ('mengelola', 'VB'): 1, ('membuat', 'VB'): 1, ('kebijakan', 'NN'): 1, ('bumn', 'NN'): 1, ('ujar', 'VB'): 1, ('sugiharto', 'NNP'): 1, ('mendapatkan', 'VB'): 1, ('jaminan', 'NN'): 1, ('pgn', 'NNP'): 1, ('kelancaran', 'NN'): 1, ('pasokan', 'NN'): 1, ('gas', 'NN'): 1, ('dialirkan', 'VB'): 1, ('melalui', 'IN'): 1, ('pipa', 'NN'): 1, ('sswj', 'NNP'): 1, ('tiga', 'CD'): 1, ('pilar', 'NN'): 1, ('setan', 'NN'): 1, ('semakin', 'RB'): 1, ('dikokohkan', 'VB'): 1, ('gerak', 'VB'): 1, ('dengan', 'SC'): 2, ('adanya', 'NN'): 2, ('sistem', 'NN'): 1, ('nilai tukar', 'NN'): 1, ('mengambang', 'VB'): 1, ('pertahanan', 'NNP'): 1, ('india', 'NNP'): 3, ('ak', 'NNP'): 1, ('antony', 'NNP'): 1, ('kepala', 'NNP'): 2, ('militer', 'NNP'): 1, ('jenderal', 'NNP'): 1, ('jj', 'NNP'): 1, ('singh', 'NNP'): 1, ('dijadwalkan', 'VB'): 1, ('mengunjungi', 'VB'): 1, ('negara bagian', 'NN'): 1, ('dijadikan', 'VB'): 1, ('sasaran', 'NN'): 1, ('selasa', 'NNP'): 2, ('menilai', 'VB'): 1, ('situasi', 'NN'): 1, ('komisaris', 'NNP'): 1, ('bumi', 'NNP'): 1, ('nalinkant', 'NNP'): 1, ('rathod', 'NNP'): 1, ('memaparkan', 'VB'): 1, ('tata', 'NNP'): 1, ('power', 'NNP'): 1, ('dalam', 'NN'): 2, ('persetujuan', 'NN'): 1, ('jangka panjang', 'NN'): 1, ('kpc', 'NNP'): 1, ('menyuplai', 'VB'): 1, ('sekitar', 'IN'): 4, ('10', 'CD'): 1, ('juta', 'CD'): 2, ('ton', 'NND'): 1, ('batu bara', 'NN'): 1, ('pembangkit', 'NN'): 1, ('listrik', 'NN'): 1, ('trombay', 'NNP'): 1, ('juga', 'RB'): 3, ('sejumlah', 'CD'): 1, ('proyek', 'NN'): 1, ('masa', 'NN'): 2, ('depan', 'NN'): 1, ('lain', 'JJ'): 2, ('badan', 'NNP'): 1, ('pom', 'NNP'): 1, ('selama', 'IN'): 1, ('misal nya', 'NN'): 1, ('ikut', 'VB'): 1, ('menentukan', 'VB'): 1, ('atau', 'CC'): 5, ('makanan', 'NN'): 1, ('serta', 'CC'): 1, ('obat-obatan', 'NN'): 1, ('berbagai', 'CD'): 1, ('mitra', 'NN'): 1, ('dagang', 'NN'): 1, ('tertutup', 'VB'): 1, ('bi', 'NNP'): 5, ('tetap', 'RB'): 3, ('menahan', 'VB'): 1, ('9', 'CD'): 2, ('nan', 'Z'): 2, ('kompensasi', 'NN'): 1, ('pekan', 'NN'): 1, ('masih', 'MD'): 3, ('melonggarkan', 'VB'): 1, ('aturan-aturan', 'NN'): 1, ('perbankan', 'NN'): 2, ('bidang', 'NN'): 1, ('perkreditan', 'NN'): 1, ('acara', 'NN'): 1, ('pembukaan', 'NN'): 1, ('investor', 'NNP'): 1, ('forum', 'NNP'): 1, ('ii', 'OD'): 1, ('jakarta', 'NNP'): 3, ('kontribusi', 'NN'): 1, ('pasar modal', 'NN'): 2, ('pdb', 'NN'): 2, ('menunjukkan', 'VB'): 2, ('trend', 'FW'): 2, ('naik', 'VB'): 1, ('dibanding', 'VB'): 2, ('akhir', 'NN'): 2, ('2006', 'CD'): 2, ('hanya', 'RB'): 3, ('37,4', 'CD'): 1, ('kapitalisasi', 'NN'): 1, ('1.25', 'CD'): 1, ('menurut', 'IN'): 4, ('transaksi', 'NN'): 2, ('adalah', 'VB'): 5, ('material', 'NN'): 1, ('disetujui', 'VB'): 1, ('mayoritas', 'NN'): 1, ('pemegang saham', 'NN'): 1, ('enrg', 'NNP'): 1, ('rapat', 'NN'): 1, ('umum', 'JJ'): 2, ('pemegang', 'NN'): 2, ('saham', 'NN'): 4, ('luar biasa', 'NN'): 1, ('rupslb', 'NN'): 1, ('dilaksanakan', 'VB'): 1, ('awal', 'NN'): 1, ('april', 'NNP'): 1, ('2007', 'CD'): 3, ('permodalan', 'NN'): 1, ('panin', 'NNP'): 1, ('car', 'FW'): 1, ('total', 'NN'): 2, ('29,5', 'CD'): 1, ('tier', 'FW'): 1, ('1', 'CD'): 1, (':', 'Z'): 1, ('21,8', 'CD'): 1, ('atas', 'NN'): 2, ('rata-rata', 'NN'): 1, ('industri', 'NN'): 1, ('20,5', 'CD'): 1, ('beberapa', 'CD'): 2, ('kelompok', 'NN'): 2, ('pemrotes', 'NN'): 1, ('mengibarkan', 'VB'): 1, ('spanduk', 'NN'): 1, ('mencela', 'VB'): 1, ('referendum', 'NN'): 1, ('menyerukan', 'VB'): 1, ('boikot', 'VB'): 1, ('halaman', 'NN'): 1, ('gedung', 'NN'): 1, ('perserikatan', 'NN'): 1, ('wartawan', 'NN'): 1, ('pusat', 'NN'): 1, ('kota', 'NN'): 2, ('kairo', 'NNP'): 1, ('tengah', 'NN'): 1, ('pengamanan', 'NN'): 1, ('ketat', 'JJ'): 1, ('pengeboman', 'NN'): 1, ('bunuh', 'VB'): 1, ('diri', 'NN'): 1, ('ia', 'PRP'): 2, ('kemungkinan', 'MD'): 2, ('cenderung', 'JJ'): 1, ('mendekati', 'VB'): 1, ('9.4', 'CD'): 1, ('diperkirakan', 'VB'): 1, ('pasar', 'NN'): 1, ('tekanan', 'NN'): 1, ('besar', 'JJ'): 2, ('mei', 'NNP'): 2, ('melarang', 'VB'): 1, ('penjualan', 'NN'): 2, ('senjata', 'NN'): 1, ('venezuela', 'NNP'): 1, ('membeli', 'VB'): 1, ('peralatan', 'NN'): 1, ('amerika', 'NNP'): 1, ('perseroan', 'NN'): 1, ('mengalami', 'VB'): 1, ('rugi', 'JJ'): 1, ('luar biasa', 'JJ'): 2, ('1,73', 'CD'): 1, ('sebelum', 'SC'): 2, ('membukukan', 'VB'): 1, ('keuntungan', 'NN'): 1, ('455,68', 'CD'): 1, ('tapi', 'CC'): 1, ('fico', 'NNP'): 1, ('menekankan', 'VB'): 1, ('satuan', 'NN'): 1, ('disebut', 'VB'): 1, ('pelopor', 'NN'): 1, ('bekerja', 'VB'): 1, ('pangkalan', 'NN'): 1, ('udara', 'NN'): 1, ('satu-satunya', 'JJ'): 1, ('tentara', 'NN'): 1, ('slowakia', 'NNP'): 1, ('afganistan', 'NNP'): 1, ('dibatasi', 'VB'): 1, ('65', 'CD'): 1, ('menambahkan', 'VB'): 2, ('penyesuaian', 'NN'): 1, ('indikasi', 'NN'): 1, ('ekspektasi', 'NN'): 1, ('tingkat', 'NN'): 1, ('inflasi', 'NN'): 3, ('tinggi', 'JJ'): 2, ('berkenaan', 'VB'): 1, ('datang', 'VB'): 1, ('ramadhan', 'NNP'): 1, ('lebaran', 'NNP'): 1, ('tahun baru', 'NNP'): 1, ('memang', 'RB'): 1, ('ada', 'VB'): 1, ('mekanisme', 'NN'): 1, ('tetapi', 'CC'): 1, ('bisa', 'MD'): 1, ('kasih tahu', 'VB'): 1, ('sekarang', 'NN'): 1, ('hadiyanto', 'NNP'): 1, ('gedung', 'NNP'): 1, ('departemen', 'NNP'): 1, ('jumat', 'NNP'): 1, ('cia', 'NNP'): 1, ('montoya', 'NNP'): 1, ('paramiliter', 'JJ'): 1, ('bersama', 'IN'): 1, ('melancarkan', 'VB'): 1, ('operasi', 'NN'): 1, ('2002', 'CD'): 1, ('menghancurkan', 'VB'): 1, ('marxis', 'NNP'): 1, ('daerah', 'NN'): 1, ('miskin', 'JJ'): 1, ('medellin', 'NNP'): 1, ('kota industri', 'NN'): 1, ('kolombia', 'NNP'): 1, ('los', 'NNP'): 1, ('angeles', 'NNP'): 1, ('times', 'NNP'): 1, ('juli', 'NNP'): 1, ('year', 'FW'): 2, ('on', 'FW'): 1, ('11,9', 'CD'): 1, ('memperkirakan', 'VB'): 1, ('triwulan', 'NN'): 1, ('iii', 'OD'): 1, ('hingga', 'IN'): 2, ('6,4', 'CD'): 1, ('didorong', 'VB'): 1, ('faktor', 'NN'): 1, ('konsumsi', 'NN'): 1, ('investasi', 'NN'): 1, ('ekspor', 'NN'): 1, ('mengusulkan', 'VB'): 1, ('pengenaan', 'NN'): 1, ('pajak penjualan', 'NN'): 1, ('barang mewah', 'NN'): 1, ('ppnbm', 'NN'): 3, ('maksimal', 'JJ'): 2, ('200', 'CD'): 1, ('jauh', 'JJ'): 2, ('75', 'CD'): 2, ('demikian', 'PR'): 1, ('salah satu', 'CD'): 1, ('perubahan', 'NN'): 1, ('diajukan', 'VB'): 1, ('draf', 'NN'): 1, ('ruu', 'NNP'): 1, ('pajak', 'NNP'): 1, ('pertambahan', 'NN'): 1, ('nilai', 'NNP'): 1, ('ppn', 'NN'): 1, ('para', 'DT'): 1, ('pejabat', 'NN'): 1, ('botol', 'NN'): 1, ('berisi', 'VB'): 1, ('jenis', 'NND'): 1, ('cairan', 'NN'): 1, ('mudah', 'JJ'): 1, ('terbakar', 'VB'): 1, ('jelas', 'JJ'): 1, ('kelihatan', 'VB'): 1, ('sebab', 'SC'): 1, ('kebakaran', 'NN'): 1, ('nilai', 'NN'): 1, ('isat', 'NNP'): 1, ('2,4', 'CD'): 1, ('1,8', 'CD'): 1, ('16,2', 'CD'): 1, ('syariah', 'NNP'): 1, ('mandiri', 'NNP'): 1, ('bsm', 'NNP'): 1, ('menaikkan', 'VB'): 2, ('perolehan', 'NN'): 1, ('laba bersih', 'NN'): 1, ('113', 'CD'): 1, ('tarif', 'NN'): 1, ('perbaikan', 'NN'): 1, ('penegakan', 'NN'): 1, ('hukum', 'NN'): 2, ('perkembangan', 'NN'): 1, ('sudah', 'MD'): 1, ('kembali', 'VB'): 1, ('meningkat', 'VB'): 1, ('kalangan', 'NN'): 1, ('otoritas', 'NN'): 1, ('moneter', 'JJ'): 1, ('rupa', 'NN'): 1, ('dianut', 'VB'): 1, ('mitos', 'NN'): 1, ('lembaga keuangan', 'NN'): 1, ('opini', 'NN'): 1, ('penulis', 'NN'): 1, ('media', 'NNP'): 1, ('24', 'CD'): 1, ('2000', 'CD'): 1, ('mengkaji', 'VB'): 1, ('kemungkinan', 'NN'): 1, ('persentase', 'NN'): 1, ('giro', 'NN'): 1, ('wajib', 'JJ'): 1, ('minimum', 'NN'): 1, ('gwm', 'NN'): 1, ('instrumen', 'NN'): 1, ('mengendalikan', 'VB'): 1, ('tertekan', 'VB'): 1, ('akibat', 'NN'): 1, ('harga', 'NN'): 4, ('minyak', 'NN'): 2, ('dunia', 'NN'): 1, ('bimo', 'NNP'): 1, ('lahan', 'NN'): 1, ('penambangan', 'NN'): 2, ('batu', 'NN'): 1, ('granit', 'NN'): 1, ('status', 'NN'): 1, ('penyelidikan', 'NN'): 1, ('sehingga', 'SC'): 1, ('dilanjutkan', 'VB'): 1, ('mengakibatkan', 'VB'): 1, ('dampak', 'NN'): 1, ('serius', 'JJ'): 1, ('bagi', 'IN'): 1, ('antam', 'NNP'): 1, ('surat', 'NNP'): 1, ('izin', 'NNP'): 1, ('pertambangan', 'NNP'): 1, ('daerah', 'NNP'): 1, ('sipd', 'NNP'): 1, ('dia', 'PRP'): 1, ('kisaran', 'NN'): 1, ('9.1', 'CD'): 1, ('mitra', 'NNP'): 1, ('penurunan', 'NN'): 1, ('tajam', 'JJ'): 1, ('subsidi', 'NN'): 1, ('tumbuhnya', 'NN'): 1, ('kepercayaan', 'NN'): 1, ('fiskal', 'JJ'): 1, ('mata uang', 'NN'): 1, ('lokal', 'JJ'): 1, ('mengurangi', 'VB'): 1, ('vulnerability', 'FW'): 1, ('sifat', 'NN'): 1, ('rentan', 'JJ'): 1, ('terserang', 'VB'): 1, ('guncangan', 'NN'): 1, ('domestik', 'JJ'): 1, ('mendadak', 'RB'): 1, ('mishra', 'NNP'): 1, ('menjelaskan', 'VB'): 1, ('kedua', 'CD'): 1, ('kantor berita', 'NN'): 1, ('pti', 'NNP'): 1, ('manajer', 'NN'): 1, ('toko', 'NN'): 1, ('tas', 'NN'): 1, ('memasok', 'VB'): 1, ('pembungkus', 'NN'): 1, ('koper', 'NN'): 1, ('di mana', 'SC'): 1, ('bom-bom', 'NN'): 1, ('disembunyikan', 'VB'): 1, ('2001', 'CD'): 1, ('penerimaan', 'NN'): 1, ('pajak', 'NN'): 1, ('dividen', 'NN'): 1, ('indosat', 'NNP'): 1, ('1,4', 'CD'): 1, ('divisi', 'NNP'): 1, ('perdagangan', 'NNP'): 1, ('bej', 'NNP'): 1, ('hamdi', 'NNP'): 1, ('hassyarbaini', 'NNP'): 1, ('suspensi', 'NN'): 1, ('dilakukan', 'VB'): 1, ('mencegah', 'VB'): 1, ('fluktuasi', 'NN'): 1, ('wajar', 'JJ'): 1, ('bbni', 'NNP'): 1, ('sehubungan', 'SC'): 1, ('penawaran', 'NN'): 1, ('kedua', 'OD'): 1, ('pt', 'NNP'): 1, ('negara', 'NNP'): 1, ('tbk.', 'NNP'): 1, ('sekretaris', 'NNP'): 1, ('perusahaan', 'NNP'): 1, ('lautan', 'NNP'): 2, ('luas', 'NNP'): 2, ('herman', 'NNP'): 1, ('santoso', 'NNP'): 1, ('kepada', 'IN'): 1, ('ketua', 'NN'): 1, ('bapepam', 'NNP'): 1, ('-', 'NNP'): 1, ('lk', 'NNP'): 1, ('senin', 'NNP'): 1, ('memproduksi', 'VB'): 1, ('amoniak', 'NN'): 1, ('terletak', 'VB'): 1, ('hong', 'NNP'): 1, ('ze', 'NNP'): 1, ('modal', 'NN'): 1, ('dicatatkan', 'VB'): 1, ('60', 'CD'): 1, ('rmb', 'NNP'): 1, ('singapore', 'NNP'): 1, ('pte', 'NNP'): 1, ('.', 'NNP'): 2, ('ltd', 'NNP'): 2, ('30', 'CD'): 1, ('hongze', 'NNP'): 1, ('yinzhu', 'NNP'): 1, ('chemical', 'NNP'): 1, ('industry', 'NNP'): 1, ('group', 'NNP'): 1, ('co.', 'NNP'): 1}\n"
          ],
          "name": "stdout"
        }
      ]
    },
    {
      "cell_type": "code",
      "metadata": {
        "id": "sNYu3VouQ4Jj",
        "outputId": "67e102ec-b42c-44cd-f040-e4e880fb818b",
        "colab": {
          "base_uri": "https://localhost:8080/",
          "height": 53
        }
      },
      "source": [
        "print(tag_count)"
      ],
      "execution_count": null,
      "outputs": [
        {
          "output_type": "stream",
          "text": [
            "{'NN': 330, 'RB': 24, 'MD': 31, 'VB': 151, 'SC': 67, 'JJ': 57, 'CC': 37, 'Z': 115, 'PR': 31, 'IN': 115, 'CD': 94, 'PRP': 31, 'nan': 49, 'NNP': 174, 'NND': 3, 'SYM': 16, 'OD': 4, 'X': 1, 'NEG': 8, 'FW': 8, 'DT': 1}\n"
          ],
          "name": "stdout"
        }
      ]
    },
    {
      "cell_type": "markdown",
      "metadata": {
        "id": "Iw6jlR5A6rTF"
      },
      "source": [
        "**Fungsi untuk mengetahui tag yang paling sering muncul di data train**"
      ]
    },
    {
      "cell_type": "code",
      "metadata": {
        "id": "yia6Ybzq6rTG"
      },
      "source": [
        "def get_most_freq_tag():\n",
        "    most_freq_tag = max(tag_count, key=tag_count.get) \n",
        "    return most_freq_tag"
      ],
      "execution_count": null,
      "outputs": []
    },
    {
      "cell_type": "markdown",
      "metadata": {
        "id": "6BcF46_B6rTL"
      },
      "source": [
        "**Fungsi untuk mencari tag yang paling sering muncul pada sebuah kata**"
      ]
    },
    {
      "cell_type": "code",
      "metadata": {
        "id": "98AR5crW6rTL"
      },
      "source": [
        "def get_most_freq_tag_word(word):\n",
        "    word_tags = {k: v for k, v in word_tag_freq.items() if word in k}\n",
        "    sorted_word_tags = sorted(word_tags.items(), key=lambda x: x[1], reverse=True)\n",
        "    if len(sorted_word_tags)>0:\n",
        "        return sorted_word_tags[0]\n",
        "    else:\n",
        "        return None"
      ],
      "execution_count": null,
      "outputs": []
    },
    {
      "cell_type": "markdown",
      "metadata": {
        "id": "2NrOKuOZ6rTP"
      },
      "source": [
        "**Testing**"
      ]
    },
    {
      "cell_type": "code",
      "metadata": {
        "id": "LaGhL4DztMf9"
      },
      "source": [
        "dt = pd.read_csv(\"test_sentences.tsv\",sep=\"\\t\", header=None)\n",
        "dt = dt.astype(str)\n",
        "\n",
        "kalimat_uji , tmp= [] , []\n",
        "kalimat_uji_label = [] \n",
        "sentences = []\n",
        "\n",
        "for index, row in dt.iterrows():   \n",
        "    wordd = row[0].lower()\n",
        "    tagg = row[1]\n",
        "    keyy = (wordd,tagg) # simpan di dictionary kata,tag\n",
        "    if word != 'nan':\n",
        "        kalimat_uji.append(wordd)\n",
        "        tmp.append(wordd)\n",
        "        kalimat_uji_label.append(tagg)\n",
        "        if wordd == '.' :\n",
        "            sentences.append(' '.join(tmp))\n",
        "            tmp = []"
      ],
      "execution_count": null,
      "outputs": []
    },
    {
      "cell_type": "code",
      "metadata": {
        "id": "cz3p_68Sdo1X",
        "outputId": "dfbc2df3-2ba4-4090-eb4d-474e22d5b35a",
        "colab": {
          "base_uri": "https://localhost:8080/",
          "height": 180
        }
      },
      "source": [
        "sentences"
      ],
      "execution_count": null,
      "outputs": [
        {
          "output_type": "execute_result",
          "data": {
            "text/plain": [
              "['menteri pertahanan as dijadwalkan mengunjungi india .',\n",
              " 'tata power menyuplai batu bara pada tahun 2000 .',\n",
              " 'pemerintah hati-hati dalam mengelola bumn .',\n",
              " 'perusahaan baru tersebut mencanangkan target perolehan laba bersih .',\n",
              " 'menteri pertahanan mengunjungi pangkalan udara .',\n",
              " 'menurut laporan sekretaris perusahaan , laba bersih meningkat .',\n",
              " 'transaksi penjualan barang mewah tahun 2007 turun .',\n",
              " 'menkeu memperkirakan inflasi akan meningkat dibanding tahun lalu .',\n",
              " 'kenaikan tarif didorong oleh target laba bersih yang meningkat .',\n",
              " 'makanan dari luar negeri tidak bisa masuk pasar lokal .']"
            ]
          },
          "metadata": {
            "tags": []
          },
          "execution_count": 20
        }
      ]
    },
    {
      "cell_type": "markdown",
      "metadata": {
        "id": "wKf-efT9Ev-D"
      },
      "source": [
        "**Hasil tagging setiap kalimat uji**"
      ]
    },
    {
      "cell_type": "code",
      "metadata": {
        "id": "cReY9C8epy5k",
        "outputId": "74ac4524-f29b-4773-e3d7-33b79422a329",
        "colab": {
          "base_uri": "https://localhost:8080/",
          "height": 1000
        }
      },
      "source": [
        "label_pred = []\n",
        "\n",
        "for token in kalimat_uji:\n",
        "    most_freq_tag_token = get_most_freq_tag_word(token.lower())\n",
        "    if most_freq_tag_token:\n",
        "        # kata terdapat di data latih\n",
        "        print('kata:',token,', tag:',most_freq_tag_token[0][1])\n",
        "        label_pred.append(most_freq_tag_token[0][1])\n",
        "    else:\n",
        "        # kata tidak terdapat di data latih\n",
        "        print('kata:',token,' tidak terdapat di data latih, tag:',get_most_freq_tag())\n",
        "        label_pred.append(get_most_freq_tag())"
      ],
      "execution_count": null,
      "outputs": [
        {
          "output_type": "stream",
          "text": [
            "kata: menteri , tag: NNP\n",
            "kata: pertahanan , tag: NN\n",
            "kata: as , tag: NNP\n",
            "kata: dijadwalkan , tag: VB\n",
            "kata: mengunjungi , tag: VB\n",
            "kata: india , tag: NNP\n",
            "kata: . , tag: Z\n",
            "kata: tata , tag: NNP\n",
            "kata: power , tag: NNP\n",
            "kata: menyuplai , tag: VB\n",
            "kata: batu bara , tag: NN\n",
            "kata: pada , tag: IN\n",
            "kata: tahun , tag: NN\n",
            "kata: 2000 , tag: CD\n",
            "kata: . , tag: Z\n",
            "kata: pemerintah , tag: NN\n",
            "kata: hati-hati , tag: JJ\n",
            "kata: dalam , tag: IN\n",
            "kata: mengelola , tag: VB\n",
            "kata: bumn , tag: NN\n",
            "kata: . , tag: Z\n",
            "kata: perusahaan , tag: NN\n",
            "kata: baru , tag: JJ\n",
            "kata: tersebut , tag: PR\n",
            "kata: mencanangkan , tag: VB\n",
            "kata: target , tag: NN\n",
            "kata: perolehan , tag: NN\n",
            "kata: laba bersih , tag: NN\n",
            "kata: . , tag: Z\n",
            "kata: menteri , tag: NNP\n",
            "kata: pertahanan , tag: NN\n",
            "kata: mengunjungi , tag: VB\n",
            "kata: pangkalan , tag: NN\n",
            "kata: udara , tag: NN\n",
            "kata: . , tag: Z\n",
            "kata: menurut , tag: IN\n",
            "kata: laporan , tag: NN\n",
            "kata: sekretaris , tag: NNP\n",
            "kata: perusahaan , tag: NN\n",
            "kata: , , tag: Z\n",
            "kata: laba bersih , tag: NN\n",
            "kata: meningkat , tag: VB\n",
            "kata: . , tag: Z\n",
            "kata: transaksi , tag: NN\n",
            "kata: penjualan , tag: NN\n",
            "kata: barang mewah , tag: NN\n",
            "kata: tahun , tag: NN\n",
            "kata: 2007 , tag: CD\n",
            "kata: turun , tag: VB\n",
            "kata: . , tag: Z\n",
            "kata: menkeu , tag: NNP\n",
            "kata: memperkirakan , tag: VB\n",
            "kata: inflasi , tag: NN\n",
            "kata: akan , tag: MD\n",
            "kata: meningkat , tag: VB\n",
            "kata: dibanding , tag: VB\n",
            "kata: tahun , tag: NN\n",
            "kata: lalu , tag: CC\n",
            "kata: . , tag: Z\n",
            "kata: kenaikan , tag: NN\n",
            "kata: tarif , tag: NN\n",
            "kata: didorong , tag: VB\n",
            "kata: oleh , tag: IN\n",
            "kata: target , tag: NN\n",
            "kata: laba bersih , tag: NN\n",
            "kata: yang , tag: SC\n",
            "kata: meningkat , tag: VB\n",
            "kata: . , tag: Z\n",
            "kata: makanan , tag: NN\n",
            "kata: dari , tag: IN\n",
            "kata: luar negeri , tag: NN\n",
            "kata: tidak , tag: NEG\n",
            "kata: bisa , tag: MD\n",
            "kata: masuk , tag: VB\n",
            "kata: pasar , tag: NN\n",
            "kata: lokal , tag: JJ\n",
            "kata: . , tag: Z\n"
          ],
          "name": "stdout"
        }
      ]
    },
    {
      "cell_type": "code",
      "metadata": {
        "id": "dghnwptv-z55",
        "outputId": "f3bbec4e-8ff4-4eca-8759-d9eb52143395",
        "colab": {
          "base_uri": "https://localhost:8080/",
          "height": 33
        }
      },
      "source": [
        "count = 0\n",
        "for i in range(len(label_pred)):\n",
        "    if kalimat_uji_label[i] == label_pred[i]:\n",
        "        count += 1\n",
        "    else:\n",
        "        count += 0\n",
        "\n",
        "print('Accuracy Baseline : ', count/len(label_pred))"
      ],
      "execution_count": null,
      "outputs": [
        {
          "output_type": "stream",
          "text": [
            "Accuracy Baseline :  0.948051948051948\n"
          ],
          "name": "stdout"
        }
      ]
    }
  ]
}